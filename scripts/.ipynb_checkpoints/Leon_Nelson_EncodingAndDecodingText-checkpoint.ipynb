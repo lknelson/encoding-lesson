{
 "cells": [
  {
   "cell_type": "markdown",
   "metadata": {},
   "source": [
    "## Encoding and Decoding when working with Text\n",
    "### Leon Liang, with contributions from Laura K. Nelson\n",
    "\n",
    "Note: This notebook is a modified version of a lecture given in Laura K. Nelson's course \"Text Analysis for Digital Humanitsts and Social Scientists\", taught at UC-Berkeley in Spring 2017 through the History Department."
   ]
  },
  {
   "cell_type": "markdown",
   "metadata": {},
   "source": [
    "\n",
    "\n",
    "If you've done any sort of computer-assisted text analysis, using Python or R or another programming language, you have likely run into an `encoding error`. If you haven't seen an encoding error, it's likely that you have seen weird or unexpected characters in your text or output. If you haven't seen either of these problems yet, you will.\n",
    "\n",
    "Encoding and decoding text can be confusing and frustrating, but it's really important for anyone doing computer-assisted text analysis to understand the fundamentals. This notebook describes what encoding and decoding do, why they are necessary, and how to trouble-shoot your own text if you run into issues. \n",
    "\n",
    "This notebook is for those doing text analysis, but also for those teaching text analysis. We include exercises throughout notebook for use in the classroom, or for you to test your understanding of these issues yourself! \n",
    "\n",
    "Please use and modify this notebook to best fit your needs. You can do so by cloning the GitHub repository, which includes this notebook, images in the `images` folder, and sample texts in the `data` folder.\n",
    "\n",
    "Outline:\n",
    "* [Bits and Bytes](#bits)\n",
    "* [Encoding and Decoding](#encodinganddecoding)\n",
    "    * [Encoding](#encoding)\n",
    "    * [Decoding](#decoding)\n",
    "    * [Encoding and Decoding Text](#text)\n",
    "* [Exercises](#exercises)"
   ]
  },
  {
   "cell_type": "markdown",
   "metadata": {},
   "source": [
    "<a id='bits'></a>\n",
    "### Bits and Bytes"
   ]
  },
  {
   "cell_type": "markdown",
   "metadata": {},
   "source": [
    "The way computers interpret text is different than the way we interpret text. For us, we can simply read the text as it is and be able to recognize what it means. However, computers do things a little differently. Instead of storing the actual \"letters\", \"numbers\", or any kind of data, all real world data are represented by *bits*, 0's and 1's.\n",
    "\n",
    "The way a \"number\" is represented in a computer's memory is as a binary number, a number expressed as a combination of 0's and 1's.\n",
    "\n",
    "For example:\n",
    "![](../images/binary_number_system.png)\n",
    "\n",
    "But binary numbers can become too long, so we can shorten binary numbers by converting them to hexidecimals using the table below. Starting from the right, every 4 binaries will be converted to 1 hexidecimal.\n",
    "\n",
    "![](../images/hexadecimal-number-chart.jpg)\n",
    "\n",
    "For the example above, the equivalent hexidecimal to the binary number `11101110` is `EE`.\n",
    "\n",
    "Thus, `119` = `11101110` = `EE` using the systems described above.\n",
    "\n",
    "In a computer, 8 binary numbers = 1 byte"
   ]
  },
  {
   "cell_type": "markdown",
   "metadata": {},
   "source": [
    "<a id='encodinganddecoding'></a>\n",
    "### Encoding and Decoding"
   ]
  },
  {
   "cell_type": "markdown",
   "metadata": {},
   "source": [
    "There are numerous ways to convert \"letters\" to *bits*, called **encoding**. Different computers have different encoding methods due to differences in operating systems, languages, etc.\n",
    "\n",
    "In the past, [American Standard Code for Information Interchange](http://www.asciitable.com) (ASCII) was the standard character encoding across computers. But the number of ways to encode a character using the ASCII table is very limited. If you clicked on the link, you'll see that there are only 256 character encodings. This means that we would have no way of converting words that are in other languages into *bits*. Many more character encoding systems have be developed based off of the ASCII character encoding system to be able to encode more characters. One of the most common encoding systems is `UTF-8`, which can handle many more characters. \n",
    "\n",
    "**Encoding** takes in a string and converts each of the characters, using some kind of encoding system, into computer data, 0's and 1's. 8 binary numbers is equivalent to a byte (computer memory).\n",
    "\n",
    "**Decoding** is the reverse of encoding. Decoding takes in computer data, 0's and 1's, and converts it to text that we are able to intrepet. When decoding, we must specify a character encoding system in order to decode computer data correctly. Otherwise, we may get garbage text that we cannot understand (example below).\n",
    "\n",
    "Imagine you want to pass a note to your classmate, but you don't want to have other people know what you're reading. You develop some kind of encoding system where each \"letter\" maps to some number, and you pass this encoding letter to your friend. But in order for your friend to decode the letter, you must also tell him or her what kind of encoding system you used. This may sound very inefficient if we were to do it, but it is very efficient for a computer.\n",
    "\n",
    "$$\\text{text} \\xrightarrow{\\text{encoding}} \\text{computer data}$$\n",
    "\n",
    "$$\\text{text} \\xleftarrow{\\text{decoding}} \\text{computer data}$$\n",
    "\n",
    "More details and examples if you're interested: http://kunststube.net/encoding/"
   ]
  },
  {
   "cell_type": "markdown",
   "metadata": {},
   "source": [
    "<a id='encoding'></a>\n",
    "#### Encoding"
   ]
  },
  {
   "cell_type": "markdown",
   "metadata": {},
   "source": [
    "Let's try to encode some text using the ASCII character encoding system first and see how limited it is."
   ]
  },
  {
   "cell_type": "code",
   "execution_count": null,
   "metadata": {},
   "outputs": [],
   "source": [
    "string = 'Hello World!'\n",
    "string_encoded_ASCII = string.encode('ASCII')\n",
    "string_encoded_ASCII"
   ]
  },
  {
   "cell_type": "markdown",
   "metadata": {},
   "source": [
    "You can see that if we try to encode a string, the output is the same string except with a b in front. The b means that the thing following it is a bytes type. You don't really have to understand the concept of bytes types for now.\n",
    "\n",
    "Now let's try to encode something other than standard English character using ASCII."
   ]
  },
  {
   "cell_type": "code",
   "execution_count": null,
   "metadata": {},
   "outputs": [],
   "source": [
    "string2 = 'première'\n",
    "string2.encode('ASCII')"
   ]
  },
  {
   "cell_type": "markdown",
   "metadata": {},
   "source": [
    "You should get an error from the code above. This is because characters like \"è\" don't exist in the ASCII character encoding system. This is why ASCII is very limited.\n",
    "\n",
    "Try again with some text that's in a totally different language, like Spanish, Chinese, German, etc.，with characters that are not in the standard English 26 alphabet letters. You should get the same error."
   ]
  },
  {
   "cell_type": "code",
   "execution_count": null,
   "metadata": {
    "collapsed": true
   },
   "outputs": [],
   "source": [
    "# Exercise: copy and paste text in a lanugage other than English and run this code.\n",
    "string3 = # <- fill me in with a string\n",
    "string3.encode('ASCII')"
   ]
  },
  {
   "cell_type": "markdown",
   "metadata": {},
   "source": [
    "Now let's try using the `UTF-8` encoding system."
   ]
  },
  {
   "cell_type": "code",
   "execution_count": null,
   "metadata": {
    "collapsed": true
   },
   "outputs": [],
   "source": [
    "string = 'Hello World!'"
   ]
  },
  {
   "cell_type": "code",
   "execution_count": null,
   "metadata": {},
   "outputs": [],
   "source": [
    "string_encoded = string.encode('UTF-8')\n",
    "string_encoded"
   ]
  },
  {
   "cell_type": "code",
   "execution_count": null,
   "metadata": {},
   "outputs": [],
   "source": [
    "type(string_encoded)"
   ]
  },
  {
   "cell_type": "code",
   "execution_count": null,
   "metadata": {},
   "outputs": [],
   "source": [
    "string2 = 'première'\n",
    "string2_encoded = string2.encode('UTF-8')\n",
    "string2_encoded"
   ]
  },
  {
   "cell_type": "markdown",
   "metadata": {},
   "source": [
    "Using `UTF-8` encoding system, you should see the standard English characters remain the same, but the special characters got converted to some alien characters in the form `\\x..`. The 2 characters in place of the `..` are actually hexidecimals, which if you recall from above, are equivalent to some form of binary numbers. Standard characters remain the same because the ASCII character encoding system was the standard for computers in the past.\n",
    "\n",
    "Let's try to encode the foreign language text you entered above using `UTF-8` and see what'd we get."
   ]
  },
  {
   "cell_type": "code",
   "execution_count": null,
   "metadata": {
    "collapsed": true,
    "scrolled": true
   },
   "outputs": [],
   "source": [
    "#Exercise: create a new string, string3_encoded, which encodes the string you entered in the previous exercise.\n",
    "#The output should be a series of characters in the form \\x..\n",
    "string3_encoded = # <- fill me in\n",
    "string3_encoded "
   ]
  },
  {
   "cell_type": "markdown",
   "metadata": {},
   "source": [
    "Below is a function that converts the *bytes* to binary that we've seen in the example at the top."
   ]
  },
  {
   "cell_type": "code",
   "execution_count": null,
   "metadata": {},
   "outputs": [],
   "source": [
    "def bytesToBinary(byte):\n",
    "    binary = []\n",
    "    for b in byte:\n",
    "        binary.append(\"{0:08b}\".format(b))\n",
    "    return binary\n",
    "\n",
    "binary = bytesToBinary(string_encoded)\n",
    "binary"
   ]
  },
  {
   "cell_type": "markdown",
   "metadata": {},
   "source": [
    "Above is a list of binary numbers that represents each character in `'Hello World!'`. Below is a better representation of the encoding."
   ]
  },
  {
   "cell_type": "code",
   "execution_count": null,
   "metadata": {},
   "outputs": [],
   "source": [
    "import pandas\n",
    "df = pandas.DataFrame()\n",
    "df['string'] = list(string)\n",
    "df['binary'] = bytesToBinary(string_encoded)\n",
    "df['integer'] = [b for b in string_encoded]\n",
    "df['hexidecimal'] = [hex(int(b, 2))[2:] for b in binary]\n",
    "df"
   ]
  },
  {
   "cell_type": "markdown",
   "metadata": {},
   "source": [
    "<a id='decoding'></a>\n",
    "#### Decoding"
   ]
  },
  {
   "cell_type": "markdown",
   "metadata": {},
   "source": [
    "Let's look at how to decode some computer data."
   ]
  },
  {
   "cell_type": "code",
   "execution_count": null,
   "metadata": {},
   "outputs": [],
   "source": [
    "print('Before decoding:', string2_encoded)\n",
    "\n",
    "string2_decoded = string2_encoded.decode('UTF-8')\n",
    "print('After decoding:' , string2_decoded)"
   ]
  },
  {
   "cell_type": "markdown",
   "metadata": {},
   "source": [
    "As described above, decoding takes in some encoding system and converts all of the computer data, *bytes*, back into text that we can read and intrepret.\n",
    "\n",
    "Try decoding the foreign language text you encoded before."
   ]
  },
  {
   "cell_type": "code",
   "execution_count": null,
   "metadata": {
    "collapsed": true
   },
   "outputs": [],
   "source": [
    "#Exercise: decode your encoded string from the previous exercise and view the output\n",
    "print('Before decoding:', string3_encoded)\n",
    "\n",
    "string3_decoded =  # <- fill me in\n",
    "print('After decoding:' , string3_decoded)"
   ]
  },
  {
   "cell_type": "markdown",
   "metadata": {},
   "source": [
    "Try decoding the computer data below and see what the original string is. Before you actually code, can you tell what the original string is just by looking at raw data?"
   ]
  },
  {
   "cell_type": "code",
   "execution_count": null,
   "metadata": {},
   "outputs": [],
   "source": [
    "#Exercise: decode the computer_data string and print out the result. It should be human-readable.\n",
    "computer_data = b'\\x48\\x65\\x6c\\x6c\\x6f\\x20\\x57\\x6f\\x72\\x6c\\x64\\x21'\n",
    "computer_data_decoded = computer_data.decode('UTF-8')\n",
    "computer_data_decoded"
   ]
  },
  {
   "cell_type": "markdown",
   "metadata": {},
   "source": [
    "<a id='text'></a>\n",
    "#### Encoding and Decoding Text"
   ]
  },
  {
   "cell_type": "markdown",
   "metadata": {},
   "source": [
    "Examples and problems below mirrors [this](http://kunststube.net/encoding/) in the \"Misconceptions, Confusions And Problems\" section.\n",
    "\n",
    "In my classes I always warn students not open any text file using Microsoft Word. This is because Word uses the default encoding system that your operating system uses to decode a text. If your operating system uses an encoding system that is different from the actual encoding system that the text file was encoded in, you'll get some weird garbage text that makes no sense.\n",
    "\n",
    "The default encoding system on Mac OS is `mac-roman`. On windows, the default encoding system is `Latin-1`.\n",
    "\n",
    "Here is an example. Let's say you accidently opened up a text file using Word, and Word converted whatever you had originally to the string below. Let's try to fix this in Python."
   ]
  },
  {
   "cell_type": "code",
   "execution_count": null,
   "metadata": {
    "collapsed": true
   },
   "outputs": [],
   "source": [
    "string_corrupted = 'ÉGÉìÉRÅ[ÉfÉBÉìÉOÇÕìÔÇµÇ≠Ç»Ç¢'"
   ]
  },
  {
   "cell_type": "markdown",
   "metadata": {},
   "source": [
    "Let's assume we opened this text file using Word on Mac OS. That means that whatever the original text contained, it probably got converted into the corrupted string above using the `mac-roman` encoding system. Thus, we must first reverse the encoding process."
   ]
  },
  {
   "cell_type": "code",
   "execution_count": null,
   "metadata": {},
   "outputs": [],
   "source": [
    "string_corrupted_encoded = string_corrupted.encode('mac-roman')\n",
    "string_corrupted_encoded"
   ]
  },
  {
   "cell_type": "markdown",
   "metadata": {},
   "source": [
    "We converted the corrupted string back into computer data using the encoding system `mac-roman`, because we knew we opened and save the text in Mac OS. Now we have to figure out what the original encoding system was in order to decode this computer data back into the original. Let's try `UTF-8`."
   ]
  },
  {
   "cell_type": "code",
   "execution_count": null,
   "metadata": {},
   "outputs": [],
   "source": [
    "string_corrupted_encoded.decode('UTF-8')"
   ]
  },
  {
   "cell_type": "markdown",
   "metadata": {},
   "source": [
    "We're getting an error that is similar the one we got when we tried to encode and decode some foreign text using ASCII! This indicates that the `UTF-8` encoding system isn't the right encoding scheme to use for this text.\n",
    "\n",
    "The original text is actually \"エンコーディングは難しくない\" encoded in Japanese Shift-JIS encoding. Without telling you this, there is no way you could retrieved the original text. But now that we know, can we retrieve the original text?"
   ]
  },
  {
   "cell_type": "code",
   "execution_count": null,
   "metadata": {},
   "outputs": [],
   "source": [
    "print('Corrupted string:', string_corrupted, '\\n')\n",
    "original = string_corrupted_encoded.decode('Shift-JIS')\n",
    "print('Original sentence:', original)"
   ]
  },
  {
   "cell_type": "markdown",
   "metadata": {},
   "source": [
    "What went wrong here exactly? Your text file was originally encoded with `Shift-JIS`. But since you tried to open it with Microsoft word, it by default tried to use the `mac-roman` encoding system to decode your text file. This resulted in the corrupted string we see above. \n",
    "\n",
    "In order to get back the original string, we must work backwards. We must first encode our corrupted string using `mac-roman` encoding system back into computer data. Once we have the corrupted string in computer data, we can then decode this data using the correct encoding system, `Shift-JIS`, to get back the original Japanese text."
   ]
  },
  {
   "cell_type": "markdown",
   "metadata": {},
   "source": [
    "<a id='exercises'></a>\n",
    "### Exercises"
   ]
  },
  {
   "cell_type": "markdown",
   "metadata": {},
   "source": [
    "In the data folder, there are 3 files: `chinese_text.txt`, `chinese_text_mac.txt`, and `chinese_text_windows.txt`.\n",
    "The last two texts contains some corrupted characters because I opened `chinese_text.txt` using **Microsoft Word** in its corresponding operating system. If you try to open `chinese_text.txt` on your computer using the default encoding system for your operating system, you should get the corresponding corrupted test.\n",
    "\n",
    "Your task: retrieve the original text from the two corrupted files.\n",
    "\n",
    "The original text was encoded using `UTF-8`."
   ]
  },
  {
   "cell_type": "code",
   "execution_count": null,
   "metadata": {
    "collapsed": true
   },
   "outputs": [],
   "source": [
    "original = open('../data/chinese_text.txt', encoding='utf-8').read() # Don't worry about the encoding part here.\n",
    "mac = open('../data/chinese_text_mac.txt', encoding='utf-8').read() # This is just to read in the exact test saved \n",
    "windows = open('../data/chinese_text_windows.txt', encoding='utf-8').read() # in the text file."
   ]
  },
  {
   "cell_type": "code",
   "execution_count": null,
   "metadata": {},
   "outputs": [],
   "source": [
    "#view the corrupted mac text\n",
    "mac"
   ]
  },
  {
   "cell_type": "code",
   "execution_count": null,
   "metadata": {},
   "outputs": [],
   "source": [
    "#view the corrupted windows text\n",
    "windows"
   ]
  },
  {
   "cell_type": "code",
   "execution_count": null,
   "metadata": {
    "collapsed": true
   },
   "outputs": [],
   "source": [
    "##write code below to retrieve the original, uncorrupted text\n",
    "mac_original = #<- fill in \n",
    "mac_original"
   ]
  },
  {
   "cell_type": "code",
   "execution_count": null,
   "metadata": {
    "collapsed": true
   },
   "outputs": [],
   "source": [
    "#if you get no output from this code you did everything right. If you converted it wrong, you'll get an error message.\n",
    "assert(original == mac_original)"
   ]
  },
  {
   "cell_type": "code",
   "execution_count": null,
   "metadata": {
    "collapsed": true
   },
   "outputs": [],
   "source": [
    "#do the same for the windows text\n",
    "windows_original =  #fill-in\n",
    "windows_original"
   ]
  },
  {
   "cell_type": "code",
   "execution_count": null,
   "metadata": {
    "collapsed": true
   },
   "outputs": [],
   "source": [
    "#if you get no output from this code you did everything right. If you converted it wrong, you'll get an error message.\n",
    "assert(original == windows_original)"
   ]
  }
 ],
 "metadata": {
  "anaconda-cloud": {},
  "kernelspec": {
   "display_name": "Python 3",
   "language": "python",
   "name": "python3"
  },
  "language_info": {
   "codemirror_mode": {
    "name": "ipython",
    "version": 3
   },
   "file_extension": ".py",
   "mimetype": "text/x-python",
   "name": "python",
   "nbconvert_exporter": "python",
   "pygments_lexer": "ipython3",
   "version": "3.5.2"
  }
 },
 "nbformat": 4,
 "nbformat_minor": 1
}
